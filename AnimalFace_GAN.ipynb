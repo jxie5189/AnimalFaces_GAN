{
  "nbformat": 4,
  "nbformat_minor": 0,
  "metadata": {
    "colab": {
      "provenance": [],
      "machine_shape": "hm",
      "gpuType": "T4",
      "authorship_tag": "ABX9TyNjO04RMtsR9KeYdzmAbqj1",
      "include_colab_link": true
    },
    "kernelspec": {
      "name": "python3",
      "display_name": "Python 3"
    },
    "language_info": {
      "name": "python"
    },
    "accelerator": "GPU"
  },
  "cells": [
    {
      "cell_type": "markdown",
      "metadata": {
        "id": "view-in-github",
        "colab_type": "text"
      },
      "source": [
        "<a href=\"https://colab.research.google.com/github/jxie5189/AnimalFaces_GAN/blob/main/AnimalFace_GAN.ipynb\" target=\"_parent\"><img src=\"https://colab.research.google.com/assets/colab-badge.svg\" alt=\"Open In Colab\"/></a>"
      ]
    },
    {
      "cell_type": "code",
      "execution_count": null,
      "metadata": {
        "id": "rJKT5JKRJwxo"
      },
      "outputs": [],
      "source": [
        "import numpy as np\n",
        "import tensorflow as tf\n",
        "import os\n",
        "from sklearn.model_selection import train_test_split\n",
        "from tensorflow.keras import layers\n",
        "import matplotlib.pyplot as plt\n",
        "import pandas as pd\n",
        "import time\n",
        "\n",
        "from IPython import display"
      ]
    },
    {
      "cell_type": "code",
      "source": [
        "from google.colab import drive\n",
        "drive.mount('/content/drive')"
      ],
      "metadata": {
        "id": "TKloya03J0_d"
      },
      "execution_count": null,
      "outputs": []
    },
    {
      "cell_type": "code",
      "source": [
        "base_dir = \"/content/drive/MyDrive/animals_gan\"\n",
        "\n",
        "folder_names = os.listdir(base_dir)"
      ],
      "metadata": {
        "id": "3JuSseALJ9cu"
      },
      "execution_count": null,
      "outputs": []
    },
    {
      "cell_type": "code",
      "source": [
        "folder_names"
      ],
      "metadata": {
        "colab": {
          "base_uri": "https://localhost:8080/"
        },
        "id": "eLgIvU4pKOpo",
        "outputId": "35f2a4ce-767a-43cf-9315-10b0d28bc431"
      },
      "execution_count": null,
      "outputs": [
        {
          "output_type": "execute_result",
          "data": {
            "text/plain": [
              "['.DS_Store', 'val', 'train']"
            ]
          },
          "metadata": {},
          "execution_count": 10
        }
      ]
    },
    {
      "cell_type": "code",
      "source": [
        "train_folder = os.path.join(base_dir, 'train')\n",
        "train_folder = os.listdir(train_folder)"
      ],
      "metadata": {
        "id": "cflWg3nWKRRU"
      },
      "execution_count": null,
      "outputs": []
    },
    {
      "cell_type": "code",
      "source": [
        "train_folder"
      ],
      "metadata": {
        "colab": {
          "base_uri": "https://localhost:8080/"
        },
        "id": "ZhmDJ9hILToi",
        "outputId": "32efb58c-2eec-4e5b-865d-9f53accaf32e"
      },
      "execution_count": null,
      "outputs": [
        {
          "output_type": "execute_result",
          "data": {
            "text/plain": [
              "['dog', 'wild', 'cat']"
            ]
          },
          "metadata": {},
          "execution_count": 12
        }
      ]
    },
    {
      "cell_type": "code",
      "source": [
        "train_data = []\n",
        "base_dir = \"/content/drive/MyDrive/animals_gan\"\n",
        "\n",
        "for folder in train_folder:\n",
        "  for fileName in os.listdir(base_dir+'/train/'+folder):\n",
        "    if fileName.__contains__(\"flickr\"):\n",
        "      train_data.append({'path':os.path.join('/content/drive/MyDrive/animals_gan/train/',folder, fileName), 'label':folder})\n",
        "\n",
        "#/content/drive/MyDrive/animals_gan/train/dog/flickr_dog_000002.jpg\n"
      ],
      "metadata": {
        "id": "hZwVlELrLU0N"
      },
      "execution_count": null,
      "outputs": []
    },
    {
      "cell_type": "code",
      "source": [
        "train_data[0]"
      ],
      "metadata": {
        "colab": {
          "base_uri": "https://localhost:8080/"
        },
        "id": "fsTcvkTxAM4X",
        "outputId": "fedbe988-f5ee-456b-a9d0-bea32bc7614a"
      },
      "execution_count": null,
      "outputs": [
        {
          "output_type": "execute_result",
          "data": {
            "text/plain": [
              "{'path': '/content/drive/MyDrive/animals_gan/train/dog/flickr_dog_000771.jpg',\n",
              " 'label': 'dog'}"
            ]
          },
          "metadata": {},
          "execution_count": 8
        }
      ]
    },
    {
      "cell_type": "code",
      "source": [
        "len(train_data)"
      ],
      "metadata": {
        "colab": {
          "base_uri": "https://localhost:8080/"
        },
        "id": "7rN5ztxJLZgG",
        "outputId": "6d26ae11-1e35-44f9-839d-336a235d38a9"
      },
      "execution_count": null,
      "outputs": [
        {
          "output_type": "execute_result",
          "data": {
            "text/plain": [
              "5426"
            ]
          },
          "metadata": {},
          "execution_count": 9
        }
      ]
    },
    {
      "cell_type": "code",
      "source": [
        "train_df = pd.DataFrame(train_data)"
      ],
      "metadata": {
        "id": "sUO26dqfNGQe"
      },
      "execution_count": null,
      "outputs": []
    },
    {
      "cell_type": "code",
      "source": [
        "train_df.head()"
      ],
      "metadata": {
        "colab": {
          "base_uri": "https://localhost:8080/",
          "height": 206
        },
        "id": "NAEih-3cOG6B",
        "outputId": "5544f4cb-6eda-44e9-be31-7c2d178956bc"
      },
      "execution_count": null,
      "outputs": [
        {
          "output_type": "execute_result",
          "data": {
            "text/plain": [
              "                                                path label\n",
              "0  /content/drive/MyDrive/animals_gan/train/dog/f...   dog\n",
              "1  /content/drive/MyDrive/animals_gan/train/dog/f...   dog\n",
              "2  /content/drive/MyDrive/animals_gan/train/dog/f...   dog\n",
              "3  /content/drive/MyDrive/animals_gan/train/dog/f...   dog\n",
              "4  /content/drive/MyDrive/animals_gan/train/dog/f...   dog"
            ],
            "text/html": [
              "\n",
              "  <div id=\"df-65f892d6-e307-4bed-936f-e4b153137412\" class=\"colab-df-container\">\n",
              "    <div>\n",
              "<style scoped>\n",
              "    .dataframe tbody tr th:only-of-type {\n",
              "        vertical-align: middle;\n",
              "    }\n",
              "\n",
              "    .dataframe tbody tr th {\n",
              "        vertical-align: top;\n",
              "    }\n",
              "\n",
              "    .dataframe thead th {\n",
              "        text-align: right;\n",
              "    }\n",
              "</style>\n",
              "<table border=\"1\" class=\"dataframe\">\n",
              "  <thead>\n",
              "    <tr style=\"text-align: right;\">\n",
              "      <th></th>\n",
              "      <th>path</th>\n",
              "      <th>label</th>\n",
              "    </tr>\n",
              "  </thead>\n",
              "  <tbody>\n",
              "    <tr>\n",
              "      <th>0</th>\n",
              "      <td>/content/drive/MyDrive/animals_gan/train/dog/f...</td>\n",
              "      <td>dog</td>\n",
              "    </tr>\n",
              "    <tr>\n",
              "      <th>1</th>\n",
              "      <td>/content/drive/MyDrive/animals_gan/train/dog/f...</td>\n",
              "      <td>dog</td>\n",
              "    </tr>\n",
              "    <tr>\n",
              "      <th>2</th>\n",
              "      <td>/content/drive/MyDrive/animals_gan/train/dog/f...</td>\n",
              "      <td>dog</td>\n",
              "    </tr>\n",
              "    <tr>\n",
              "      <th>3</th>\n",
              "      <td>/content/drive/MyDrive/animals_gan/train/dog/f...</td>\n",
              "      <td>dog</td>\n",
              "    </tr>\n",
              "    <tr>\n",
              "      <th>4</th>\n",
              "      <td>/content/drive/MyDrive/animals_gan/train/dog/f...</td>\n",
              "      <td>dog</td>\n",
              "    </tr>\n",
              "  </tbody>\n",
              "</table>\n",
              "</div>\n",
              "    <div class=\"colab-df-buttons\">\n",
              "\n",
              "  <div class=\"colab-df-container\">\n",
              "    <button class=\"colab-df-convert\" onclick=\"convertToInteractive('df-65f892d6-e307-4bed-936f-e4b153137412')\"\n",
              "            title=\"Convert this dataframe to an interactive table.\"\n",
              "            style=\"display:none;\">\n",
              "\n",
              "  <svg xmlns=\"http://www.w3.org/2000/svg\" height=\"24px\" viewBox=\"0 -960 960 960\">\n",
              "    <path d=\"M120-120v-720h720v720H120Zm60-500h600v-160H180v160Zm220 220h160v-160H400v160Zm0 220h160v-160H400v160ZM180-400h160v-160H180v160Zm440 0h160v-160H620v160ZM180-180h160v-160H180v160Zm440 0h160v-160H620v160Z\"/>\n",
              "  </svg>\n",
              "    </button>\n",
              "\n",
              "  <style>\n",
              "    .colab-df-container {\n",
              "      display:flex;\n",
              "      gap: 12px;\n",
              "    }\n",
              "\n",
              "    .colab-df-convert {\n",
              "      background-color: #E8F0FE;\n",
              "      border: none;\n",
              "      border-radius: 50%;\n",
              "      cursor: pointer;\n",
              "      display: none;\n",
              "      fill: #1967D2;\n",
              "      height: 32px;\n",
              "      padding: 0 0 0 0;\n",
              "      width: 32px;\n",
              "    }\n",
              "\n",
              "    .colab-df-convert:hover {\n",
              "      background-color: #E2EBFA;\n",
              "      box-shadow: 0px 1px 2px rgba(60, 64, 67, 0.3), 0px 1px 3px 1px rgba(60, 64, 67, 0.15);\n",
              "      fill: #174EA6;\n",
              "    }\n",
              "\n",
              "    .colab-df-buttons div {\n",
              "      margin-bottom: 4px;\n",
              "    }\n",
              "\n",
              "    [theme=dark] .colab-df-convert {\n",
              "      background-color: #3B4455;\n",
              "      fill: #D2E3FC;\n",
              "    }\n",
              "\n",
              "    [theme=dark] .colab-df-convert:hover {\n",
              "      background-color: #434B5C;\n",
              "      box-shadow: 0px 1px 3px 1px rgba(0, 0, 0, 0.15);\n",
              "      filter: drop-shadow(0px 1px 2px rgba(0, 0, 0, 0.3));\n",
              "      fill: #FFFFFF;\n",
              "    }\n",
              "  </style>\n",
              "\n",
              "    <script>\n",
              "      const buttonEl =\n",
              "        document.querySelector('#df-65f892d6-e307-4bed-936f-e4b153137412 button.colab-df-convert');\n",
              "      buttonEl.style.display =\n",
              "        google.colab.kernel.accessAllowed ? 'block' : 'none';\n",
              "\n",
              "      async function convertToInteractive(key) {\n",
              "        const element = document.querySelector('#df-65f892d6-e307-4bed-936f-e4b153137412');\n",
              "        const dataTable =\n",
              "          await google.colab.kernel.invokeFunction('convertToInteractive',\n",
              "                                                    [key], {});\n",
              "        if (!dataTable) return;\n",
              "\n",
              "        const docLinkHtml = 'Like what you see? Visit the ' +\n",
              "          '<a target=\"_blank\" href=https://colab.research.google.com/notebooks/data_table.ipynb>data table notebook</a>'\n",
              "          + ' to learn more about interactive tables.';\n",
              "        element.innerHTML = '';\n",
              "        dataTable['output_type'] = 'display_data';\n",
              "        await google.colab.output.renderOutput(dataTable, element);\n",
              "        const docLink = document.createElement('div');\n",
              "        docLink.innerHTML = docLinkHtml;\n",
              "        element.appendChild(docLink);\n",
              "      }\n",
              "    </script>\n",
              "  </div>\n",
              "\n",
              "\n",
              "<div id=\"df-f8d2b632-95d9-45cd-ad64-2874afb793de\">\n",
              "  <button class=\"colab-df-quickchart\" onclick=\"quickchart('df-f8d2b632-95d9-45cd-ad64-2874afb793de')\"\n",
              "            title=\"Suggest charts\"\n",
              "            style=\"display:none;\">\n",
              "\n",
              "<svg xmlns=\"http://www.w3.org/2000/svg\" height=\"24px\"viewBox=\"0 0 24 24\"\n",
              "     width=\"24px\">\n",
              "    <g>\n",
              "        <path d=\"M19 3H5c-1.1 0-2 .9-2 2v14c0 1.1.9 2 2 2h14c1.1 0 2-.9 2-2V5c0-1.1-.9-2-2-2zM9 17H7v-7h2v7zm4 0h-2V7h2v10zm4 0h-2v-4h2v4z\"/>\n",
              "    </g>\n",
              "</svg>\n",
              "  </button>\n",
              "\n",
              "<style>\n",
              "  .colab-df-quickchart {\n",
              "      --bg-color: #E8F0FE;\n",
              "      --fill-color: #1967D2;\n",
              "      --hover-bg-color: #E2EBFA;\n",
              "      --hover-fill-color: #174EA6;\n",
              "      --disabled-fill-color: #AAA;\n",
              "      --disabled-bg-color: #DDD;\n",
              "  }\n",
              "\n",
              "  [theme=dark] .colab-df-quickchart {\n",
              "      --bg-color: #3B4455;\n",
              "      --fill-color: #D2E3FC;\n",
              "      --hover-bg-color: #434B5C;\n",
              "      --hover-fill-color: #FFFFFF;\n",
              "      --disabled-bg-color: #3B4455;\n",
              "      --disabled-fill-color: #666;\n",
              "  }\n",
              "\n",
              "  .colab-df-quickchart {\n",
              "    background-color: var(--bg-color);\n",
              "    border: none;\n",
              "    border-radius: 50%;\n",
              "    cursor: pointer;\n",
              "    display: none;\n",
              "    fill: var(--fill-color);\n",
              "    height: 32px;\n",
              "    padding: 0;\n",
              "    width: 32px;\n",
              "  }\n",
              "\n",
              "  .colab-df-quickchart:hover {\n",
              "    background-color: var(--hover-bg-color);\n",
              "    box-shadow: 0 1px 2px rgba(60, 64, 67, 0.3), 0 1px 3px 1px rgba(60, 64, 67, 0.15);\n",
              "    fill: var(--button-hover-fill-color);\n",
              "  }\n",
              "\n",
              "  .colab-df-quickchart-complete:disabled,\n",
              "  .colab-df-quickchart-complete:disabled:hover {\n",
              "    background-color: var(--disabled-bg-color);\n",
              "    fill: var(--disabled-fill-color);\n",
              "    box-shadow: none;\n",
              "  }\n",
              "\n",
              "  .colab-df-spinner {\n",
              "    border: 2px solid var(--fill-color);\n",
              "    border-color: transparent;\n",
              "    border-bottom-color: var(--fill-color);\n",
              "    animation:\n",
              "      spin 1s steps(1) infinite;\n",
              "  }\n",
              "\n",
              "  @keyframes spin {\n",
              "    0% {\n",
              "      border-color: transparent;\n",
              "      border-bottom-color: var(--fill-color);\n",
              "      border-left-color: var(--fill-color);\n",
              "    }\n",
              "    20% {\n",
              "      border-color: transparent;\n",
              "      border-left-color: var(--fill-color);\n",
              "      border-top-color: var(--fill-color);\n",
              "    }\n",
              "    30% {\n",
              "      border-color: transparent;\n",
              "      border-left-color: var(--fill-color);\n",
              "      border-top-color: var(--fill-color);\n",
              "      border-right-color: var(--fill-color);\n",
              "    }\n",
              "    40% {\n",
              "      border-color: transparent;\n",
              "      border-right-color: var(--fill-color);\n",
              "      border-top-color: var(--fill-color);\n",
              "    }\n",
              "    60% {\n",
              "      border-color: transparent;\n",
              "      border-right-color: var(--fill-color);\n",
              "    }\n",
              "    80% {\n",
              "      border-color: transparent;\n",
              "      border-right-color: var(--fill-color);\n",
              "      border-bottom-color: var(--fill-color);\n",
              "    }\n",
              "    90% {\n",
              "      border-color: transparent;\n",
              "      border-bottom-color: var(--fill-color);\n",
              "    }\n",
              "  }\n",
              "</style>\n",
              "\n",
              "  <script>\n",
              "    async function quickchart(key) {\n",
              "      const quickchartButtonEl =\n",
              "        document.querySelector('#' + key + ' button');\n",
              "      quickchartButtonEl.disabled = true;  // To prevent multiple clicks.\n",
              "      quickchartButtonEl.classList.add('colab-df-spinner');\n",
              "      try {\n",
              "        const charts = await google.colab.kernel.invokeFunction(\n",
              "            'suggestCharts', [key], {});\n",
              "      } catch (error) {\n",
              "        console.error('Error during call to suggestCharts:', error);\n",
              "      }\n",
              "      quickchartButtonEl.classList.remove('colab-df-spinner');\n",
              "      quickchartButtonEl.classList.add('colab-df-quickchart-complete');\n",
              "    }\n",
              "    (() => {\n",
              "      let quickchartButtonEl =\n",
              "        document.querySelector('#df-f8d2b632-95d9-45cd-ad64-2874afb793de button');\n",
              "      quickchartButtonEl.style.display =\n",
              "        google.colab.kernel.accessAllowed ? 'block' : 'none';\n",
              "    })();\n",
              "  </script>\n",
              "</div>\n",
              "\n",
              "    </div>\n",
              "  </div>\n"
            ]
          },
          "metadata": {},
          "execution_count": 11
        }
      ]
    },
    {
      "cell_type": "code",
      "source": [
        "train_df['path'][0]"
      ],
      "metadata": {
        "colab": {
          "base_uri": "https://localhost:8080/",
          "height": 35
        },
        "id": "dxDubbBJAE2k",
        "outputId": "7f42471d-91e4-4b56-aef7-6a73b51245f3"
      },
      "execution_count": null,
      "outputs": [
        {
          "output_type": "execute_result",
          "data": {
            "text/plain": [
              "'/content/drive/MyDrive/animals_gan/train/dog/flickr_dog_000771.jpg'"
            ],
            "application/vnd.google.colaboratory.intrinsic+json": {
              "type": "string"
            }
          },
          "metadata": {},
          "execution_count": 11
        }
      ]
    },
    {
      "cell_type": "code",
      "source": [
        "dog_df = train_df[train_df['label']=='dog']\n",
        "cat_df = train_df[train_df['label']=='cat']\n",
        "wild_df = train_df[train_df['label']=='wild']"
      ],
      "metadata": {
        "id": "3WyWd5H7QGgm"
      },
      "execution_count": null,
      "outputs": []
    },
    {
      "cell_type": "code",
      "source": [
        "print(len(dog_df))\n",
        "print(len(cat_df))\n",
        "print(len(wild_df))"
      ],
      "metadata": {
        "colab": {
          "base_uri": "https://localhost:8080/"
        },
        "id": "BpC9pVjKQVoX",
        "outputId": "e8f6c13e-e242-4c16-aac4-b408c17a6be0"
      },
      "execution_count": null,
      "outputs": [
        {
          "output_type": "stream",
          "name": "stdout",
          "text": [
            "1103\n",
            "731\n",
            "3592\n"
          ]
        }
      ]
    },
    {
      "cell_type": "markdown",
      "source": [
        "#Data Processing"
      ],
      "metadata": {
        "id": "B-DJMLSY_Amg"
      }
    },
    {
      "cell_type": "code",
      "source": [
        "from tensorflow.keras.preprocessing.image import img_to_array\n",
        "from PIL import Image as PILImage\n",
        "from PIL import ImageOps\n",
        "\n",
        "def processImage(path):\n",
        "  i = PILImage.open(path)\n",
        "  i = ImageOps.pad(i, (28, 28), method=0, color=None)\n",
        "  img_array = (img_to_array(i)- 255) /255.0\n",
        "  return img_array"
      ],
      "metadata": {
        "id": "S9_akE7m_Cej"
      },
      "execution_count": null,
      "outputs": []
    },
    {
      "cell_type": "code",
      "source": [
        "dog_df['img_array'] = dog_df['path'].apply(processImage)"
      ],
      "metadata": {
        "colab": {
          "base_uri": "https://localhost:8080/"
        },
        "id": "cLCLuPMgoWJu",
        "outputId": "9c82b0b9-71b7-4938-ff44-c12f3f979597"
      },
      "execution_count": null,
      "outputs": [
        {
          "output_type": "stream",
          "name": "stderr",
          "text": [
            "<ipython-input-16-545286fdd9b3>:1: SettingWithCopyWarning: \n",
            "A value is trying to be set on a copy of a slice from a DataFrame.\n",
            "Try using .loc[row_indexer,col_indexer] = value instead\n",
            "\n",
            "See the caveats in the documentation: https://pandas.pydata.org/pandas-docs/stable/user_guide/indexing.html#returning-a-view-versus-a-copy\n",
            "  dog_df['img_array'] = dog_df['path'].apply(processImage)\n"
          ]
        }
      ]
    },
    {
      "cell_type": "code",
      "source": [
        "dog_df.head()"
      ],
      "metadata": {
        "colab": {
          "base_uri": "https://localhost:8080/",
          "height": 206
        },
        "id": "2MeK2D4LtN1S",
        "outputId": "cebfe9e3-3961-47f9-e60e-7f28955dec3d"
      },
      "execution_count": null,
      "outputs": [
        {
          "output_type": "execute_result",
          "data": {
            "text/plain": [
              "                                                path label  \\\n",
              "0  /content/drive/MyDrive/animals_gan/train/dog/f...   dog   \n",
              "1  /content/drive/MyDrive/animals_gan/train/dog/f...   dog   \n",
              "2  /content/drive/MyDrive/animals_gan/train/dog/f...   dog   \n",
              "3  /content/drive/MyDrive/animals_gan/train/dog/f...   dog   \n",
              "4  /content/drive/MyDrive/animals_gan/train/dog/f...   dog   \n",
              "\n",
              "                                           img_array  \n",
              "0  [[[-0.44313726, -0.49803922, -0.5019608], [-0....  \n",
              "1  [[[-0.41960785, -0.5568628, -0.6745098], [-0.5...  \n",
              "2  [[[-0.3529412, -0.43137255, -0.4745098], [-0.4...  \n",
              "3  [[[-0.047058824, -0.043137256, -0.0627451], [-...  \n",
              "4  [[[-0.1764706, -0.17254902, -0.15294118], [-0....  "
            ],
            "text/html": [
              "\n",
              "  <div id=\"df-589dba29-4b47-4154-a9d7-3750eb86b343\" class=\"colab-df-container\">\n",
              "    <div>\n",
              "<style scoped>\n",
              "    .dataframe tbody tr th:only-of-type {\n",
              "        vertical-align: middle;\n",
              "    }\n",
              "\n",
              "    .dataframe tbody tr th {\n",
              "        vertical-align: top;\n",
              "    }\n",
              "\n",
              "    .dataframe thead th {\n",
              "        text-align: right;\n",
              "    }\n",
              "</style>\n",
              "<table border=\"1\" class=\"dataframe\">\n",
              "  <thead>\n",
              "    <tr style=\"text-align: right;\">\n",
              "      <th></th>\n",
              "      <th>path</th>\n",
              "      <th>label</th>\n",
              "      <th>img_array</th>\n",
              "    </tr>\n",
              "  </thead>\n",
              "  <tbody>\n",
              "    <tr>\n",
              "      <th>0</th>\n",
              "      <td>/content/drive/MyDrive/animals_gan/train/dog/f...</td>\n",
              "      <td>dog</td>\n",
              "      <td>[[[-0.44313726, -0.49803922, -0.5019608], [-0....</td>\n",
              "    </tr>\n",
              "    <tr>\n",
              "      <th>1</th>\n",
              "      <td>/content/drive/MyDrive/animals_gan/train/dog/f...</td>\n",
              "      <td>dog</td>\n",
              "      <td>[[[-0.41960785, -0.5568628, -0.6745098], [-0.5...</td>\n",
              "    </tr>\n",
              "    <tr>\n",
              "      <th>2</th>\n",
              "      <td>/content/drive/MyDrive/animals_gan/train/dog/f...</td>\n",
              "      <td>dog</td>\n",
              "      <td>[[[-0.3529412, -0.43137255, -0.4745098], [-0.4...</td>\n",
              "    </tr>\n",
              "    <tr>\n",
              "      <th>3</th>\n",
              "      <td>/content/drive/MyDrive/animals_gan/train/dog/f...</td>\n",
              "      <td>dog</td>\n",
              "      <td>[[[-0.047058824, -0.043137256, -0.0627451], [-...</td>\n",
              "    </tr>\n",
              "    <tr>\n",
              "      <th>4</th>\n",
              "      <td>/content/drive/MyDrive/animals_gan/train/dog/f...</td>\n",
              "      <td>dog</td>\n",
              "      <td>[[[-0.1764706, -0.17254902, -0.15294118], [-0....</td>\n",
              "    </tr>\n",
              "  </tbody>\n",
              "</table>\n",
              "</div>\n",
              "    <div class=\"colab-df-buttons\">\n",
              "\n",
              "  <div class=\"colab-df-container\">\n",
              "    <button class=\"colab-df-convert\" onclick=\"convertToInteractive('df-589dba29-4b47-4154-a9d7-3750eb86b343')\"\n",
              "            title=\"Convert this dataframe to an interactive table.\"\n",
              "            style=\"display:none;\">\n",
              "\n",
              "  <svg xmlns=\"http://www.w3.org/2000/svg\" height=\"24px\" viewBox=\"0 -960 960 960\">\n",
              "    <path d=\"M120-120v-720h720v720H120Zm60-500h600v-160H180v160Zm220 220h160v-160H400v160Zm0 220h160v-160H400v160ZM180-400h160v-160H180v160Zm440 0h160v-160H620v160ZM180-180h160v-160H180v160Zm440 0h160v-160H620v160Z\"/>\n",
              "  </svg>\n",
              "    </button>\n",
              "\n",
              "  <style>\n",
              "    .colab-df-container {\n",
              "      display:flex;\n",
              "      gap: 12px;\n",
              "    }\n",
              "\n",
              "    .colab-df-convert {\n",
              "      background-color: #E8F0FE;\n",
              "      border: none;\n",
              "      border-radius: 50%;\n",
              "      cursor: pointer;\n",
              "      display: none;\n",
              "      fill: #1967D2;\n",
              "      height: 32px;\n",
              "      padding: 0 0 0 0;\n",
              "      width: 32px;\n",
              "    }\n",
              "\n",
              "    .colab-df-convert:hover {\n",
              "      background-color: #E2EBFA;\n",
              "      box-shadow: 0px 1px 2px rgba(60, 64, 67, 0.3), 0px 1px 3px 1px rgba(60, 64, 67, 0.15);\n",
              "      fill: #174EA6;\n",
              "    }\n",
              "\n",
              "    .colab-df-buttons div {\n",
              "      margin-bottom: 4px;\n",
              "    }\n",
              "\n",
              "    [theme=dark] .colab-df-convert {\n",
              "      background-color: #3B4455;\n",
              "      fill: #D2E3FC;\n",
              "    }\n",
              "\n",
              "    [theme=dark] .colab-df-convert:hover {\n",
              "      background-color: #434B5C;\n",
              "      box-shadow: 0px 1px 3px 1px rgba(0, 0, 0, 0.15);\n",
              "      filter: drop-shadow(0px 1px 2px rgba(0, 0, 0, 0.3));\n",
              "      fill: #FFFFFF;\n",
              "    }\n",
              "  </style>\n",
              "\n",
              "    <script>\n",
              "      const buttonEl =\n",
              "        document.querySelector('#df-589dba29-4b47-4154-a9d7-3750eb86b343 button.colab-df-convert');\n",
              "      buttonEl.style.display =\n",
              "        google.colab.kernel.accessAllowed ? 'block' : 'none';\n",
              "\n",
              "      async function convertToInteractive(key) {\n",
              "        const element = document.querySelector('#df-589dba29-4b47-4154-a9d7-3750eb86b343');\n",
              "        const dataTable =\n",
              "          await google.colab.kernel.invokeFunction('convertToInteractive',\n",
              "                                                    [key], {});\n",
              "        if (!dataTable) return;\n",
              "\n",
              "        const docLinkHtml = 'Like what you see? Visit the ' +\n",
              "          '<a target=\"_blank\" href=https://colab.research.google.com/notebooks/data_table.ipynb>data table notebook</a>'\n",
              "          + ' to learn more about interactive tables.';\n",
              "        element.innerHTML = '';\n",
              "        dataTable['output_type'] = 'display_data';\n",
              "        await google.colab.output.renderOutput(dataTable, element);\n",
              "        const docLink = document.createElement('div');\n",
              "        docLink.innerHTML = docLinkHtml;\n",
              "        element.appendChild(docLink);\n",
              "      }\n",
              "    </script>\n",
              "  </div>\n",
              "\n",
              "\n",
              "<div id=\"df-8376dd33-9f06-4b33-a6ff-7b40cff3272c\">\n",
              "  <button class=\"colab-df-quickchart\" onclick=\"quickchart('df-8376dd33-9f06-4b33-a6ff-7b40cff3272c')\"\n",
              "            title=\"Suggest charts\"\n",
              "            style=\"display:none;\">\n",
              "\n",
              "<svg xmlns=\"http://www.w3.org/2000/svg\" height=\"24px\"viewBox=\"0 0 24 24\"\n",
              "     width=\"24px\">\n",
              "    <g>\n",
              "        <path d=\"M19 3H5c-1.1 0-2 .9-2 2v14c0 1.1.9 2 2 2h14c1.1 0 2-.9 2-2V5c0-1.1-.9-2-2-2zM9 17H7v-7h2v7zm4 0h-2V7h2v10zm4 0h-2v-4h2v4z\"/>\n",
              "    </g>\n",
              "</svg>\n",
              "  </button>\n",
              "\n",
              "<style>\n",
              "  .colab-df-quickchart {\n",
              "      --bg-color: #E8F0FE;\n",
              "      --fill-color: #1967D2;\n",
              "      --hover-bg-color: #E2EBFA;\n",
              "      --hover-fill-color: #174EA6;\n",
              "      --disabled-fill-color: #AAA;\n",
              "      --disabled-bg-color: #DDD;\n",
              "  }\n",
              "\n",
              "  [theme=dark] .colab-df-quickchart {\n",
              "      --bg-color: #3B4455;\n",
              "      --fill-color: #D2E3FC;\n",
              "      --hover-bg-color: #434B5C;\n",
              "      --hover-fill-color: #FFFFFF;\n",
              "      --disabled-bg-color: #3B4455;\n",
              "      --disabled-fill-color: #666;\n",
              "  }\n",
              "\n",
              "  .colab-df-quickchart {\n",
              "    background-color: var(--bg-color);\n",
              "    border: none;\n",
              "    border-radius: 50%;\n",
              "    cursor: pointer;\n",
              "    display: none;\n",
              "    fill: var(--fill-color);\n",
              "    height: 32px;\n",
              "    padding: 0;\n",
              "    width: 32px;\n",
              "  }\n",
              "\n",
              "  .colab-df-quickchart:hover {\n",
              "    background-color: var(--hover-bg-color);\n",
              "    box-shadow: 0 1px 2px rgba(60, 64, 67, 0.3), 0 1px 3px 1px rgba(60, 64, 67, 0.15);\n",
              "    fill: var(--button-hover-fill-color);\n",
              "  }\n",
              "\n",
              "  .colab-df-quickchart-complete:disabled,\n",
              "  .colab-df-quickchart-complete:disabled:hover {\n",
              "    background-color: var(--disabled-bg-color);\n",
              "    fill: var(--disabled-fill-color);\n",
              "    box-shadow: none;\n",
              "  }\n",
              "\n",
              "  .colab-df-spinner {\n",
              "    border: 2px solid var(--fill-color);\n",
              "    border-color: transparent;\n",
              "    border-bottom-color: var(--fill-color);\n",
              "    animation:\n",
              "      spin 1s steps(1) infinite;\n",
              "  }\n",
              "\n",
              "  @keyframes spin {\n",
              "    0% {\n",
              "      border-color: transparent;\n",
              "      border-bottom-color: var(--fill-color);\n",
              "      border-left-color: var(--fill-color);\n",
              "    }\n",
              "    20% {\n",
              "      border-color: transparent;\n",
              "      border-left-color: var(--fill-color);\n",
              "      border-top-color: var(--fill-color);\n",
              "    }\n",
              "    30% {\n",
              "      border-color: transparent;\n",
              "      border-left-color: var(--fill-color);\n",
              "      border-top-color: var(--fill-color);\n",
              "      border-right-color: var(--fill-color);\n",
              "    }\n",
              "    40% {\n",
              "      border-color: transparent;\n",
              "      border-right-color: var(--fill-color);\n",
              "      border-top-color: var(--fill-color);\n",
              "    }\n",
              "    60% {\n",
              "      border-color: transparent;\n",
              "      border-right-color: var(--fill-color);\n",
              "    }\n",
              "    80% {\n",
              "      border-color: transparent;\n",
              "      border-right-color: var(--fill-color);\n",
              "      border-bottom-color: var(--fill-color);\n",
              "    }\n",
              "    90% {\n",
              "      border-color: transparent;\n",
              "      border-bottom-color: var(--fill-color);\n",
              "    }\n",
              "  }\n",
              "</style>\n",
              "\n",
              "  <script>\n",
              "    async function quickchart(key) {\n",
              "      const quickchartButtonEl =\n",
              "        document.querySelector('#' + key + ' button');\n",
              "      quickchartButtonEl.disabled = true;  // To prevent multiple clicks.\n",
              "      quickchartButtonEl.classList.add('colab-df-spinner');\n",
              "      try {\n",
              "        const charts = await google.colab.kernel.invokeFunction(\n",
              "            'suggestCharts', [key], {});\n",
              "      } catch (error) {\n",
              "        console.error('Error during call to suggestCharts:', error);\n",
              "      }\n",
              "      quickchartButtonEl.classList.remove('colab-df-spinner');\n",
              "      quickchartButtonEl.classList.add('colab-df-quickchart-complete');\n",
              "    }\n",
              "    (() => {\n",
              "      let quickchartButtonEl =\n",
              "        document.querySelector('#df-8376dd33-9f06-4b33-a6ff-7b40cff3272c button');\n",
              "      quickchartButtonEl.style.display =\n",
              "        google.colab.kernel.accessAllowed ? 'block' : 'none';\n",
              "    })();\n",
              "  </script>\n",
              "</div>\n",
              "    </div>\n",
              "  </div>\n"
            ]
          },
          "metadata": {},
          "execution_count": 17
        }
      ]
    },
    {
      "cell_type": "code",
      "source": [
        "from IPython.display import display as IpyDisplay, Image as IpyImage\n",
        "\n",
        "def display(path):\n",
        "  image_path = path\n",
        "  return IpyDisplay(IpyImage(filename=image_path))"
      ],
      "metadata": {
        "id": "X08AwJuZ_oWp"
      },
      "execution_count": null,
      "outputs": []
    },
    {
      "cell_type": "code",
      "source": [
        "display(test)"
      ],
      "metadata": {
        "colab": {
          "base_uri": "https://localhost:8080/",
          "height": 529
        },
        "id": "0E_kuQ9h_pN9",
        "outputId": "0140849a-54f4-4d24-cfe2-be36fc8377ea"
      },
      "execution_count": null,
      "outputs": [
        {
          "output_type": "display_data",
          "data": {
            "image/jpeg": "[encoded data removed]",
            "text/plain": [
              "<IPython.core.display.Image object>"
            ]
          },
          "metadata": {}
        }
      ]
    },
    {
      "cell_type": "markdown",
      "source": [
        "#Data Augmentation"
      ],
      "metadata": {
        "id": "cIaZN6xzPNLN"
      }
    },
    {
      "cell_type": "code",
      "source": [
        "from tensorflow.keras.preprocessing.image import ImageDataGenerator\n",
        "\n",
        "def preprocessImage(img):\n",
        "  #return (img-127.5)/127.5\n",
        "  return (img+1.0)/2.0\n",
        "\n",
        "train_datagen = ImageDataGenerator(\n",
        "    preprocessing_function = preprocessImage,\n",
        "    rescale = 1./255,\n",
        ")"
      ],
      "metadata": {
        "id": "bOQwXg-7OIxA"
      },
      "execution_count": null,
      "outputs": []
    },
    {
      "cell_type": "code",
      "source": [
        "BATCH_SIZE = 256\n",
        "\n",
        "train_generator_dog = train_datagen.flow_from_dataframe(\n",
        "    dataframe=dog_df,\n",
        "    target_size=(28,28),\n",
        "    #color_mode = 'grayscale',\n",
        "    color_mode='rgb',\n",
        "    batch_size=BATCH_SIZE,\n",
        "    x_col='path',\n",
        "    y_col='label',\n",
        "    shuffle=True,\n",
        "    seed=42,\n",
        ")"
      ],
      "metadata": {
        "colab": {
          "base_uri": "https://localhost:8080/"
        },
        "id": "o0y5GS_5PY-w",
        "outputId": "fab5ea26-b18d-4b92-eb90-4f0f1338345f"
      },
      "execution_count": null,
      "outputs": [
        {
          "output_type": "stream",
          "name": "stdout",
          "text": [
            "Found 1103 validated image filenames belonging to 1 classes.\n"
          ]
        }
      ]
    },
    {
      "cell_type": "code",
      "source": [
        "train_generator_wild = train_datagen.flow_from_dataframe(\n",
        "    dataframe=wild_df,\n",
        "    target_size=(28,28),\n",
        "    #color_mode = 'grayscale',\n",
        "    color_mode='rgb',\n",
        "    batch_size=BATCH_SIZE,\n",
        "    x_col='path',\n",
        "    y_col='label',\n",
        "    shuffle=True,\n",
        "    seed=42,\n",
        ")"
      ],
      "metadata": {
        "colab": {
          "base_uri": "https://localhost:8080/"
        },
        "id": "n_YOLi56cvnk",
        "outputId": "04568b7d-5bd9-4d1a-d26a-dc821e8760a0"
      },
      "execution_count": null,
      "outputs": [
        {
          "output_type": "stream",
          "name": "stdout",
          "text": [
            "Found 3592 validated image filenames belonging to 1 classes.\n"
          ]
        }
      ]
    },
    {
      "cell_type": "code",
      "source": [
        "train_generator_cat = train_datagen.flow_from_dataframe(\n",
        "    dataframe=cat_df,\n",
        "    target_size=(28,28),\n",
        "    #color_mode = 'grayscale',\n",
        "    color_mode='rgb',\n",
        "    batch_size=BATCH_SIZE,\n",
        "    x_col='path',\n",
        "    y_col='label',\n",
        "    shuffle=True,\n",
        "    seed=42,\n",
        ")"
      ],
      "metadata": {
        "colab": {
          "base_uri": "https://localhost:8080/"
        },
        "id": "4udBv_a9d-AD",
        "outputId": "81a9bf04-84a4-4184-a008-f0ed157c7c74"
      },
      "execution_count": null,
      "outputs": [
        {
          "output_type": "stream",
          "name": "stdout",
          "text": [
            "Found 731 validated image filenames belonging to 1 classes.\n"
          ]
        }
      ]
    },
    {
      "cell_type": "markdown",
      "source": [
        "#Make Generator"
      ],
      "metadata": {
        "id": "FZ8f4yoO-ZCm"
      }
    },
    {
      "cell_type": "code",
      "source": [
        "from tensorflow.keras import initializers\n",
        "\n",
        "def make_generator_model():\n",
        "    model = tf.keras.Sequential()\n",
        "    model.add(layers.Input(shape=(100,)))\n",
        "    model.add(layers.Dense(7*7*256, use_bias=False, kernel_initializer='he_normal'))\n",
        "\n",
        "    model.add(layers.BatchNormalization(momentum=0.8, epsilon=0.002))\n",
        "    model.add(layers.ReLU())\n",
        "\n",
        "    model.add(layers.Reshape((7, 7, 256)))\n",
        "\n",
        "    model.add(layers.Conv2DTranspose(128, (4, 4), strides=(2, 2), padding='same', use_bias=False))\n",
        "    model.add(layers.BatchNormalization(momentum=0.8, epsilon=0.002))\n",
        "    model.add(layers.ReLU())\n",
        "\n",
        "    model.add(layers.Conv2DTranspose(64, (4, 4), strides=(2, 2), padding='same', use_bias=False))\n",
        "    model.add(layers.BatchNormalization(momentum=0.8, epsilon=0.002))\n",
        "    model.add(layers.ReLU())\n",
        "\n",
        "    model.add(layers.Conv2DTranspose(3, (4, 4), strides=(1, 1), padding='same', use_bias=False, activation='tanh'))\n",
        "\n",
        "    return model"
      ],
      "metadata": {
        "id": "dT79uqMQ-a6z"
      },
      "execution_count": null,
      "outputs": []
    },
    {
      "cell_type": "code",
      "source": [
        "generator = make_generator_model()"
      ],
      "metadata": {
        "id": "CQDIHuFrSV9Z"
      },
      "execution_count": null,
      "outputs": []
    },
    {
      "cell_type": "code",
      "source": [
        "generator.summary()"
      ],
      "metadata": {
        "colab": {
          "base_uri": "https://localhost:8080/"
        },
        "id": "b0fbR_7D6Zpo",
        "outputId": "9508e3d3-d07c-4e15-a495-87df493d7098"
      },
      "execution_count": null,
      "outputs": [
        {
          "output_type": "stream",
          "name": "stdout",
          "text": [
            "Model: \"sequential_12\"\n",
            "_________________________________________________________________\n",
            " Layer (type)                Output Shape              Param #   \n",
            "=================================================================\n",
            " dense_12 (Dense)            (None, 12544)             1254400   \n",
            "                                                                 \n",
            " batch_normalization_39 (Ba  (None, 12544)             50176     \n",
            " tchNormalization)                                               \n",
            "                                                                 \n",
            " leaky_re_lu_8 (LeakyReLU)   (None, 12544)             0         \n",
            "                                                                 \n",
            " reshape_10 (Reshape)        (None, 7, 7, 256)         0         \n",
            "                                                                 \n",
            " conv2d_transpose_38 (Conv2  (None, 14, 14, 128)       524288    \n",
            " DTranspose)                                                     \n",
            "                                                                 \n",
            " batch_normalization_40 (Ba  (None, 14, 14, 128)       512       \n",
            " tchNormalization)                                               \n",
            "                                                                 \n",
            " leaky_re_lu_9 (LeakyReLU)   (None, 14, 14, 128)       0         \n",
            "                                                                 \n",
            " conv2d_transpose_39 (Conv2  (None, 28, 28, 64)        131072    \n",
            " DTranspose)                                                     \n",
            "                                                                 \n",
            " batch_normalization_41 (Ba  (None, 28, 28, 64)        256       \n",
            " tchNormalization)                                               \n",
            "                                                                 \n",
            " leaky_re_lu_10 (LeakyReLU)  (None, 28, 28, 64)        0         \n",
            "                                                                 \n",
            " conv2d_transpose_40 (Conv2  (None, 28, 28, 3)         3072      \n",
            " DTranspose)                                                     \n",
            "                                                                 \n",
            "=================================================================\n",
            "Total params: 1963776 (7.49 MB)\n",
            "Trainable params: 1938304 (7.39 MB)\n",
            "Non-trainable params: 25472 (99.50 KB)\n",
            "_________________________________________________________________\n"
          ]
        }
      ]
    },
    {
      "cell_type": "code",
      "source": [
        "noise = tf.random.normal([1, 100])\n",
        "generated_image = generator(noise, training=False)\n",
        "\n",
        "#generated_image = (generator_image + 1.0) / 2.0\n",
        "\n",
        "plt.imshow((generated_image[0, :, :, :]+1.0) / 2.0)\n"
      ],
      "metadata": {
        "colab": {
          "base_uri": "https://localhost:8080/",
          "height": 448
        },
        "id": "hk_Zs3Q7F-aX",
        "outputId": "b568004e-23ab-4bbe-a9fa-59da3cd72fd7"
      },
      "execution_count": null,
      "outputs": [
        {
          "output_type": "execute_result",
          "data": {
            "text/plain": [
              "<matplotlib.image.AxesImage at 0x7e7cda738670>"
            ]
          },
          "metadata": {},
          "execution_count": 84
        },
        {
          "output_type": "display_data",
          "data": {
            "text/plain": [
              "<Figure size 640x480 with 1 Axes>"
            ],
            "image/png": "[encoded data removed]"
          },
          "metadata": {}
        }
      ]
    },
    {
      "cell_type": "code",
      "source": [
        "plt.figure(figsize=(12, 4))\n",
        "\n",
        "for i in range(3):\n",
        "    plt.subplot(1, 3, i + 1)\n",
        "    plt.hist((generated_image[0, :, :, i] + 1.0) / 2.0, bins=20, range=[0, 1])\n",
        "    plt.title(f'Channel {i+1} Histogram')\n",
        "    plt.xlabel('Pixel Value')\n",
        "    plt.ylabel('Frequency')\n",
        "\n",
        "plt.show()"
      ],
      "metadata": {
        "colab": {
          "base_uri": "https://localhost:8080/",
          "height": 410
        },
        "id": "n5DISE54RaY3",
        "outputId": "d148dead-5c93-4e35-9332-f3be705db95e"
      },
      "execution_count": null,
      "outputs": [
        {
          "output_type": "display_data",
          "data": {
            "text/plain": [
              "<Figure size 1200x400 with 3 Axes>"
            ],
            "image/png": "[encoded data removed]"
          },
          "metadata": {}
        }
      ]
    },
    {
      "cell_type": "code",
      "source": [
        "print(np.min(generated_image))\n",
        "print(np.max(generated_image))"
      ],
      "metadata": {
        "colab": {
          "base_uri": "https://localhost:8080/"
        },
        "id": "LQG9WrXpKGZ8",
        "outputId": "f5248186-31ba-4d8e-d56f-e10f682b704b"
      },
      "execution_count": null,
      "outputs": [
        {
          "output_type": "stream",
          "name": "stdout",
          "text": [
            "-0.6841404\n",
            "0.6172474\n"
          ]
        }
      ]
    },
    {
      "cell_type": "code",
      "source": [
        "plt.figure(figsize=(12, 4))\n",
        "\n",
        "for i in range(3):\n",
        "    plt.subplot(1, 3, i + 1)\n",
        "    plt.imshow(generated_image[:, :, i], cmap='gray')  # Use 'gray' cmap for individual channels\n",
        "    plt.title(f'Channel {i+1}')\n",
        "    plt.axis('off')\n",
        "\n",
        "plt.show()"
      ],
      "metadata": {
        "colab": {
          "base_uri": "https://localhost:8080/",
          "height": 143
        },
        "id": "5sIFKdphKVEa",
        "outputId": "88261413-2847-481b-afef-d795c3ceacd8"
      },
      "execution_count": null,
      "outputs": [
        {
          "output_type": "stream",
          "name": "stderr",
          "text": [
            "WARNING:matplotlib.image:Clipping input data to the valid range for imshow with RGB data ([0..1] for floats or [0..255] for integers).\n",
            "WARNING:matplotlib.image:Clipping input data to the valid range for imshow with RGB data ([0..1] for floats or [0..255] for integers).\n",
            "WARNING:matplotlib.image:Clipping input data to the valid range for imshow with RGB data ([0..1] for floats or [0..255] for integers).\n"
          ]
        },
        {
          "output_type": "display_data",
          "data": {
            "text/plain": [
              "<Figure size 1200x400 with 3 Axes>"
            ],
            "image/png": "[encoded data removed]"
          },
          "metadata": {}
        }
      ]
    },
    {
      "cell_type": "markdown",
      "source": [
        "#Make a discriminator"
      ],
      "metadata": {
        "id": "yujljOf3Gh22"
      }
    },
    {
      "cell_type": "code",
      "source": [
        "def make_discriminator_model():\n",
        "    model = tf.keras.Sequential()\n",
        "    model.add(layers.Conv2D(64, (5, 5), strides=(2, 2), padding='same',\n",
        "                                     input_shape=[28, 28, 3]))\n",
        "    model.add(layers.LeakyReLU())\n",
        "    model.add(layers.Dropout(0.3))\n",
        "\n",
        "    model.add(layers.Conv2D(128, (5, 5), strides=(2, 2), padding='same'))\n",
        "    model.add(layers.LeakyReLU())\n",
        "    model.add(layers.Dropout(0.3))\n",
        "\n",
        "    model.add(layers.Flatten())\n",
        "    model.add(layers.Dense(1))\n",
        "\n",
        "    return model"
      ],
      "metadata": {
        "id": "5y7IyylwGbtU"
      },
      "execution_count": null,
      "outputs": []
    },
    {
      "cell_type": "code",
      "source": [
        "discriminator = make_discriminator_model()"
      ],
      "metadata": {
        "id": "0_ViZY7_GqJO"
      },
      "execution_count": null,
      "outputs": []
    },
    {
      "cell_type": "code",
      "source": [
        "discriminator.summary()"
      ],
      "metadata": {
        "colab": {
          "base_uri": "https://localhost:8080/"
        },
        "id": "zrkCdcHX6p_s",
        "outputId": "66104598-038f-4300-d1c7-fad4468543f6"
      },
      "execution_count": null,
      "outputs": [
        {
          "output_type": "stream",
          "name": "stdout",
          "text": [
            "Model: \"sequential_13\"\n",
            "_________________________________________________________________\n",
            " Layer (type)                Output Shape              Param #   \n",
            "=================================================================\n",
            " conv2d_4 (Conv2D)           (None, 14, 14, 64)        4864      \n",
            "                                                                 \n",
            " leaky_re_lu_11 (LeakyReLU)  (None, 14, 14, 64)        0         \n",
            "                                                                 \n",
            " dropout_4 (Dropout)         (None, 14, 14, 64)        0         \n",
            "                                                                 \n",
            " conv2d_5 (Conv2D)           (None, 7, 7, 128)         204928    \n",
            "                                                                 \n",
            " leaky_re_lu_12 (LeakyReLU)  (None, 7, 7, 128)         0         \n",
            "                                                                 \n",
            " dropout_5 (Dropout)         (None, 7, 7, 128)         0         \n",
            "                                                                 \n",
            " flatten_2 (Flatten)         (None, 6272)              0         \n",
            "                                                                 \n",
            " dense_13 (Dense)            (None, 1)                 6273      \n",
            "                                                                 \n",
            "=================================================================\n",
            "Total params: 216065 (844.00 KB)\n",
            "Trainable params: 216065 (844.00 KB)\n",
            "Non-trainable params: 0 (0.00 Byte)\n",
            "_________________________________________________________________\n"
          ]
        }
      ]
    },
    {
      "cell_type": "markdown",
      "source": [
        "#Loss function"
      ],
      "metadata": {
        "id": "0w0MbR6uKpeQ"
      }
    },
    {
      "cell_type": "code",
      "source": [
        "cross_entropy = tf.keras.losses.BinaryCrossentropy(from_logits=True)"
      ],
      "metadata": {
        "id": "Vv7I8V-IHD91"
      },
      "execution_count": null,
      "outputs": []
    },
    {
      "cell_type": "code",
      "source": [
        "def discriminator_loss(real_output, fake_output):\n",
        "\n",
        "    real_loss = cross_entropy(tf.ones_like(real_output), real_output)\n",
        "    fake_loss = cross_entropy(tf.zeros_like(fake_output), fake_output)\n",
        "\n",
        "    total_loss = real_loss + fake_loss\n",
        "    return total_loss"
      ],
      "metadata": {
        "id": "cbDB947pKryM"
      },
      "execution_count": null,
      "outputs": []
    },
    {
      "cell_type": "code",
      "source": [
        "def generator_loss(fake_output):\n",
        "    return cross_entropy(tf.ones_like(fake_output), fake_output)"
      ],
      "metadata": {
        "id": "zBeIdg4mLLLC"
      },
      "execution_count": null,
      "outputs": []
    },
    {
      "cell_type": "code",
      "source": [
        "generator_optimizer = tf.keras.optimizers.Adam(1e-4)\n",
        "discriminator_optimizer = tf.keras.optimizers.Adam(1e-4)"
      ],
      "metadata": {
        "id": "GnTR1RE4LOVu"
      },
      "execution_count": null,
      "outputs": []
    },
    {
      "cell_type": "code",
      "source": [
        "checkpoint_dir = '/content/drive/MyDrive/training_checkpoints'\n",
        "checkpoint_prefix = os.path.join(checkpoint_dir, \"ckpt\")\n",
        "checkpoint = tf.train.Checkpoint(generator_optimizer=generator_optimizer,\n",
        "                                 discriminator_optimizer=discriminator_optimizer,\n",
        "                                 generator=generator,\n",
        "                                 discriminator=discriminator)"
      ],
      "metadata": {
        "id": "ORPpR3l_LQqD"
      },
      "execution_count": null,
      "outputs": []
    },
    {
      "cell_type": "code",
      "source": [
        "EPOCHS = 1000\n",
        "noise_dim = 100\n",
        "num_examples_to_generate = 16\n",
        "\n",
        "# You will reuse this seed over time (so it's easier)\n",
        "# to visualize progress in the animated GIF)\n",
        "seed = tf.random.normal([num_examples_to_generate, noise_dim])\n"
      ],
      "metadata": {
        "id": "qvfh77sbLUM7"
      },
      "execution_count": null,
      "outputs": []
    },
    {
      "cell_type": "code",
      "source": [
        "# `tf.function` causes the function to be \"compiled\".\n",
        "#@tf.function\n",
        "def train_step(images):\n",
        "\n",
        "    batch_size = images[0].shape[0]\n",
        "\n",
        "    noise = tf.random.normal([batch_size, noise_dim])\n",
        "\n",
        "    with tf.GradientTape() as gen_tape, tf.GradientTape() as disc_tape:\n",
        "\n",
        "      generated_images = generator(noise, training=True)\n",
        "\n",
        "      real_output = discriminator(images[0], training=True)\n",
        "      fake_output = discriminator(generated_images, training=True)\n",
        "\n",
        "      gen_loss = generator_loss(fake_output)\n",
        "      disc_loss = discriminator_loss(real_output, fake_output)\n",
        "\n",
        "    gradients_of_generator = gen_tape.gradient(gen_loss, generator.trainable_variables)\n",
        "    gradients_of_discriminator = disc_tape.gradient(disc_loss, discriminator.trainable_variables)\n",
        "\n",
        "    generator_optimizer.apply_gradients(zip(gradients_of_generator, generator.trainable_variables))\n",
        "    discriminator_optimizer.apply_gradients(zip(gradients_of_discriminator, discriminator.trainable_variables))"
      ],
      "metadata": {
        "id": "qkGqSi_YLiWd"
      },
      "execution_count": null,
      "outputs": []
    },
    {
      "cell_type": "code",
      "source": [
        "def train(dataset, epochs, steps_per_epoch):\n",
        "  time_stamps = []\n",
        "  for epoch in range(epochs):\n",
        "    #print('epoch '+str(epoch))\n",
        "    start = time.time()\n",
        "\n",
        "    for step in range(steps_per_epoch):\n",
        "      image_batch = next(dataset)\n",
        "      train_step(image_batch)\n",
        "\n",
        "    # Produce images for the GIF as you go\n",
        "    display.clear_output(wait=True)\n",
        "    generate_and_save_images(generator,\n",
        "                             epoch + 1,\n",
        "                             seed)\n",
        "\n",
        "    # Save the model every 15 epochs\n",
        "    if (epoch + 1) % 15 == 0:\n",
        "      checkpoint.save(file_prefix = checkpoint_prefix)\n",
        "\n",
        "    print ('Time for epoch {} is {} sec'.format(epoch + 1, time.time()-start))\n",
        "    time_stamps.append(time.time()-start)\n",
        "\n",
        "  # Generate after the final epoch\n",
        "  display.clear_output(wait=True)\n",
        "  generate_and_save_images(generator,\n",
        "                           epochs,\n",
        "                           seed)\n",
        "  print(time_stamps)"
      ],
      "metadata": {
        "id": "pkAh6LNFLlfM"
      },
      "execution_count": null,
      "outputs": []
    },
    {
      "cell_type": "code",
      "source": [
        "def generate_and_save_images(model, epoch, test_input):\n",
        "  # Notice `training` is set to False.\n",
        "  # This is so all layers run in inference mode (batchnorm).\n",
        "  predictions = model(test_input, training=False)\n",
        "\n",
        "  fig = plt.figure(figsize=(8, 8))\n",
        "\n",
        "  for i in range(predictions.shape[0]):\n",
        "      plt.subplot(4, 4, i+1)\n",
        "      plt.imshow((predictions[i, :, :, :] +1.0) / 2.0)\n",
        "      plt.axis('off')\n",
        "\n",
        "  plt.savefig('image_at_epoch_{:04d}.png'.format(epoch))\n",
        "  plt.show()\n",
        "\n"
      ],
      "metadata": {
        "id": "ffwzXZaJLoHV"
      },
      "execution_count": null,
      "outputs": []
    },
    {
      "cell_type": "code",
      "source": [
        "len(dog_df)"
      ],
      "metadata": {
        "colab": {
          "base_uri": "https://localhost:8080/"
        },
        "id": "8QoBLJD36ZPM",
        "outputId": "e66cb02b-84c6-43a6-887f-893512f0e097"
      },
      "execution_count": null,
      "outputs": [
        {
          "output_type": "execute_result",
          "data": {
            "text/plain": [
              "1103"
            ]
          },
          "metadata": {},
          "execution_count": 30
        }
      ]
    },
    {
      "cell_type": "code",
      "source": [
        "len(wild_df)"
      ],
      "metadata": {
        "colab": {
          "base_uri": "https://localhost:8080/"
        },
        "id": "yYcqumlfdz1l",
        "outputId": "a6ab3b43-427f-4b86-dc20-ba23cd3aa7af"
      },
      "execution_count": null,
      "outputs": [
        {
          "output_type": "execute_result",
          "data": {
            "text/plain": [
              "3592"
            ]
          },
          "metadata": {},
          "execution_count": 108
        }
      ]
    },
    {
      "cell_type": "code",
      "source": [
        "BATCH_SIZE"
      ],
      "metadata": {
        "colab": {
          "base_uri": "https://localhost:8080/"
        },
        "id": "HQ15uWIx6nvY",
        "outputId": "e688bb8d-ca23-48fd-9465-0163b1fe35c3"
      },
      "execution_count": null,
      "outputs": [
        {
          "output_type": "execute_result",
          "data": {
            "text/plain": [
              "256"
            ]
          },
          "metadata": {},
          "execution_count": 34
        }
      ]
    },
    {
      "cell_type": "code",
      "source": [
        "train(train_generator_dog, EPOCHS, (len(dog_df)//BATCH_SIZE))"
      ],
      "metadata": {
        "colab": {
          "base_uri": "https://localhost:8080/",
          "height": 691
        },
        "id": "RyPOB1QtLqZ7",
        "outputId": "a5320655-9b01-4a5e-d2fc-d610e57cfd29"
      },
      "execution_count": null,
      "outputs": [
        {
          "output_type": "display_data",
          "data": {
            "text/plain": [
              "<Figure size 800x800 with 16 Axes>"
            ],
            "image/png": "[encoded data removed]"
          },
          "metadata": {}
        },
        {
          "output_type": "stream",
          "name": "stdout",
          "text": [
            "[3.113535165786743, 2.9539084434509277, 2.9439494609832764, 2.9303767681121826, 2.707927942276001, 3.0304086208343506, 2.9904873371124268, 2.8758020401000977, 2.740931272506714, 2.8027780055999756, 3.172851085662842, 2.9949209690093994, 2.8277556896209717, 2.6537749767303467, 2.8878839015960693, 3.347353935241699, 2.8524765968322754, 2.8780853748321533, 2.796905517578125, 2.7007997035980225, 3.519005060195923, 2.8776750564575195, 2.7441084384918213, 2.8049163818359375, 2.7081308364868164, 3.429309129714966, 2.756298542022705, 2.7524704933166504, 2.810040235519409, 3.2127017974853516, 3.1664652824401855, 2.7801191806793213, 2.753049612045288, 2.821532726287842, 3.057032585144043, 3.2119181156158447, 2.710167169570923, 2.7046546936035156, 2.6599457263946533, 3.122422933578491, 3.22965407371521, 2.7643725872039795, 2.751854658126831, 3.0933125019073486, 2.9969899654388428, 3.104832887649536, 2.8087286949157715, 2.7242746353149414, 3.0619895458221436, 2.846144914627075, 3.0924172401428223, 2.6993765830993652, 2.7673892974853516, 3.1960225105285645, 2.7161035537719727, 3.0739057064056396, 2.761460304260254, 2.785740852355957, 3.051378011703491, 2.8444936275482178, 3.2325875759124756, 2.8012640476226807, 3.035273790359497, 2.7106032371520996, 2.6804749965667725, 3.1174042224884033, 2.6925079822540283, 2.9472007751464844, 2.7364766597747803, 2.6357479095458984, 3.2188174724578857, 3.0425469875335693, 2.8008875846862793, 2.702937602996826, 2.9554660320281982, 2.997403383255005, 3.090987205505371, 2.7264606952667236, 2.6434578895568848, 2.599668025970459, 3.4215166568756104, 2.9413530826568604, 2.9099183082580566, 2.7830562591552734, 2.756756544113159, 3.504772901535034, 2.730943441390991, 2.6913325786590576, 2.6411349773406982, 3.1605961322784424, 3.2140090465545654, 2.7010345458984375, 2.7146918773651123, 2.57751202583313, 3.005460262298584, 3.265810012817383, 2.7820944786071777, 2.8080854415893555, 2.7420148849487305, 2.98101806640625, 3.114943742752075, 2.753394365310669, 2.6077075004577637, 3.0092155933380127, 2.8923990726470947, 3.102867841720581, 2.7978010177612305, 2.6272687911987305, 2.9238533973693848, 2.7135632038116455, 3.055835008621216, 2.646045684814453, 3.1383421421051025, 2.611142635345459, 2.692056179046631, 2.9669554233551025, 2.6829636096954346, 3.0337140560150146, 2.765122175216675, 2.938974380493164, 3.166008949279785, 2.6518077850341797, 2.980299949645996, 2.858060836791992, 2.792499303817749, 3.048658609390259, 3.1424615383148193, 2.799287796020508, 2.781740188598633, 2.770655632019043, 3.144073963165283, 3.093926429748535, 2.7071197032928467, 2.7969918251037598, 2.862332344055176, 3.1788058280944824, 3.0560615062713623, 2.7516098022460938, 2.751802682876587, 2.8375649452209473, 3.7063047885894775, 2.7911317348480225, 2.8718152046203613, 2.811250686645508, 2.787416934967041, 3.2894558906555176, 2.81276535987854, 2.759599208831787, 2.6864593029022217, 2.9071640968322754, 3.4802489280700684, 2.8781392574310303, 2.5140562057495117, 2.739936351776123, 3.0198299884796143, 3.206613779067993, 2.83829927444458, 2.7954418659210205, 2.78316593170166, 2.9220693111419678, 3.2443947792053223, 2.7348992824554443, 2.7321319580078125, 2.677877187728882, 3.139373540878296, 3.265453815460205, 2.6847898960113525, 2.7200989723205566, 2.9814865589141846, 2.809567928314209, 3.037654399871826, 2.5438148975372314, 2.653142213821411, 2.8936309814453125, 2.652710437774658, 3.370180130004883, 2.648899555206299, 2.634089946746826, 3.0012357234954834, 2.9569921493530273, 3.1156349182128906, 2.70444393157959, 2.652433395385742, 3.192265272140503, 2.7835452556610107, 3.1244661808013916, 2.7020633220672607, 3.1261165142059326, 2.841770887374878, 2.8560943603515625, 3.248610496520996, 2.7548983097076416, 3.0189075469970703, 2.72790265083313, 2.8250622749328613, 3.0587973594665527, 2.674626350402832, 3.027482032775879, 2.769470691680908, 2.76271390914917, 3.042125940322876, 3.14176869392395, 2.7379884719848633, 2.867492914199829, 2.724297285079956, 3.143693208694458, 3.1059350967407227, 2.7795815467834473, 2.787689447402954, 2.8539352416992188, 3.1668426990509033, 3.0309829711914062, 2.805753231048584, 2.6064398288726807, 2.719862461090088, 3.2585690021514893, 2.7975380420684814, 2.8217763900756836, 2.829979181289673, 2.7944345474243164, 3.5145671367645264, 2.615504741668701, 2.708402395248413, 2.640775203704834, 2.9659178256988525, 3.4550416469573975, 2.7177248001098633, 2.656120538711548, 2.714568614959717, 3.1173276901245117, 3.2610251903533936, 2.815709114074707, 2.6831233501434326, 2.660414934158325, 2.8841712474823, 3.208894729614258, 2.724862575531006, 2.674177885055542, 2.89262318611145, 3.2441160678863525, 3.235293388366699, 2.8040127754211426, 2.6959409713745117, 2.985231876373291, 2.791642189025879, 3.2416694164276123, 2.6357808113098145, 2.7366082668304443, 3.0827183723449707, 2.8235397338867188, 3.161500930786133, 2.6918818950653076, 3.020174264907837, 2.7406585216522217, 2.954364061355591, 3.337071418762207, 2.729569911956787, 2.9690184593200684, 2.78432035446167, 2.7897958755493164, 3.0670275688171387, 2.6447815895080566, 3.144195318222046, 2.9027652740478516, 2.6927545070648193, 3.11836838722229, 2.9804129600524902, 2.7187418937683105, 2.767796277999878, 2.9801065921783447, 3.1726930141448975, 2.9234960079193115, 2.7950010299682617, 2.6978659629821777, 2.630405902862549, 3.0532593727111816, 2.9673938751220703, 2.796987295150757, 2.695535182952881, 2.640005111694336, 3.3654065132141113, 2.7112908363342285, 2.795060396194458, 2.5919594764709473, 2.884997844696045, 3.39631986618042, 2.8219313621520996, 2.7207512855529785, 2.635197877883911, 2.6922500133514404, 3.424607276916504, 2.832815408706665, 2.7436861991882324, 2.583899736404419, 2.9381484985351562, 3.1669981479644775, 2.9935994148254395, 2.8148491382598877, 2.6455271244049072, 3.1712865829467773, 3.254234790802002, 2.7837400436401367, 2.6615028381347656, 2.656975030899048, 2.9546210765838623, 3.104567050933838, 2.6546363830566406, 2.7351162433624268, 2.986227035522461, 2.690535306930542, 3.1669490337371826, 2.752805233001709, 2.6539463996887207, 3.162838935852051, 2.9484591484069824, 3.1974265575408936, 2.735628128051758, 2.690863847732544, 3.1319570541381836, 2.9118263721466064, 3.238269805908203, 2.7779428958892822, 3.040050983428955, 2.700176477432251, 2.81368088722229, 3.1311163902282715, 2.7436113357543945, 3.2235968112945557, 2.8196072578430176, 2.8450753688812256, 3.1103270053863525, 2.688932180404663, 2.93959903717041, 2.7596213817596436, 2.738680839538574, 3.013853073120117, 3.050448179244995, 2.6147103309631348, 2.810995101928711, 2.7460951805114746, 3.131948709487915, 3.0429282188415527, 2.8561437129974365, 2.7510247230529785, 2.866316080093384, 3.0952227115631104, 3.177414894104004, 2.819094181060791, 2.851288080215454, 2.796839714050293, 3.459681987762451, 2.8652122020721436, 2.915654182434082, 2.700409173965454, 2.788559913635254, 3.3757550716400146, 2.7416739463806152, 2.7729568481445312, 2.743229866027832, 2.9836249351501465, 3.457495927810669, 2.8175241947174072, 2.675062417984009, 2.7222940921783447, 3.0081822872161865, 3.1207308769226074, 2.893650770187378, 2.878016233444214, 2.801387310028076, 3.103527307510376, 3.1564693450927734, 2.8166158199310303, 2.7345142364501953, 2.805971622467041, 3.19052791595459, 3.2297203540802, 2.659367322921753, 2.7074239253997803, 2.9772677421569824, 2.73334002494812, 3.246746778488159, 2.574134588241577, 2.7106950283050537, 2.918039321899414, 2.774852752685547, 3.177461624145508, 2.6997716426849365, 2.693610668182373, 2.9368128776550293, 2.7891857624053955, 3.138817310333252, 2.861189126968384, 2.977471113204956, 2.9009556770324707, 2.876347303390503, 3.178314208984375, 2.7239925861358643, 3.1044681072235107, 2.85892653465271, 2.7994801998138428, 3.178034782409668, 2.728269577026367, 2.9703943729400635, 2.8265199661254883, 2.953686475753784, 3.244119644165039, 2.67978572845459, 3.0608203411102295, 2.788923501968384, 2.728255033493042, 3.2438924312591553, 2.9892468452453613, 2.771498918533325, 2.7207725048065186, 2.80503249168396, 3.19197940826416, 3.030707597732544, 2.762115001678467, 2.657276153564453, 2.8881607055664062, 3.0948777198791504, 3.0779709815979004, 2.8116378784179688, 2.6930058002471924, 2.724703788757324, 3.5334513187408447, 2.9138991832733154, 2.7245683670043945, 2.8493449687957764, 2.7505040168762207, 3.6519064903259277, 2.8467769622802734, 2.686298131942749, 2.708976984024048, 2.801673173904419, 3.409273624420166, 2.712019205093384, 2.7111189365386963, 2.643751621246338, 3.053844451904297, 3.173279285430908, 2.658313274383545, 2.6797146797180176, 2.7704882621765137, 2.942633628845215, 3.1898841857910156, 2.742619037628174, 2.7793612480163574, 3.03537654876709, 2.9549026489257812, 3.116067409515381, 2.758108139038086, 2.6829419136047363, 3.041442632675171, 2.8843257427215576, 3.1285207271575928, 2.6696252822875977, 2.7141361236572266, 3.0185256004333496, 2.7413482666015625, 3.2262446880340576, 2.5965075492858887, 2.9469757080078125, 2.7293896675109863, 2.9120657444000244, 3.078000545501709, 2.714632272720337, 3.119966745376587, 2.8192145824432373, 2.7641029357910156, 3.107196807861328, 2.803715944290161, 2.9168477058410645, 2.8097004890441895, 2.68888521194458, 3.1319305896759033, 2.964491367340088, 2.675894260406494, 2.7646920680999756, 2.878119945526123, 3.2556066513061523, 2.9642276763916016, 2.8247218132019043, 2.767871856689453, 2.646214485168457, 3.042990207672119, 3.0955910682678223, 2.7385642528533936, 2.6498754024505615, 2.634652614593506, 3.417618751525879, 2.771116018295288, 2.696213483810425, 2.818134069442749, 2.9368741512298584, 3.4187917709350586, 2.7877161502838135, 2.6736907958984375, 2.7183778285980225, 2.660548210144043, 3.4377853870391846, 2.7795097827911377, 2.6173882484436035, 2.738938331604004, 2.9360928535461426, 3.2776355743408203, 2.739746332168579, 2.6918931007385254, 2.8006811141967773, 3.315953016281128, 3.274425506591797, 2.7377593517303467, 2.857707977294922, 3.023470401763916, 2.6866445541381836, 3.185814619064331, 2.6528313159942627, 2.5844132900238037, 3.0664823055267334, 2.764260768890381, 3.1412513256073, 2.668520450592041, 2.716738700866699, 2.958632230758667, 2.9931604862213135, 3.100640058517456, 2.821329116821289, 3.0503089427948, 2.6571104526519775, 2.677497148513794, 3.0616347789764404, 2.6206367015838623, 3.0201754570007324, 2.7497506141662598, 2.736294746398926, 3.060736656188965, 2.652669668197632, 2.980255126953125, 2.792283058166504, 2.991114854812622, 3.0558207035064697, 2.928520441055298, 2.68658185005188, 2.678816080093384, 2.577674388885498, 3.1186063289642334, 2.8781518936157227, 2.7388055324554443, 2.8719568252563477, 2.73295521736145, 2.9722092151641846, 2.950343608856201, 2.76611590385437, 2.7766191959381104, 2.8204963207244873, 3.545386791229248, 2.7312989234924316, 2.795795440673828, 2.8109538555145264, 2.7125861644744873, 3.364163398742676, 2.7723872661590576, 2.8075499534606934, 2.6654584407806396, 2.6861183643341064, 3.361614465713501, 2.7052724361419678, 2.750197410583496, 2.6658756732940674, 3.0857667922973633, 3.132335901260376, 2.8616511821746826, 2.7183334827423096, 2.7635796070098877, 2.9111175537109375, 3.047664165496826, 2.867074489593506, 2.754462957382202, 2.6510114669799805, 3.0329785346984863, 3.1628715991973877, 2.7006402015686035, 2.6621947288513184, 2.9025096893310547, 2.8129608631134033, 3.1226556301116943, 2.7492263317108154, 2.682162046432495, 2.9547746181488037, 2.7010467052459717, 3.178295135498047, 2.6812286376953125, 2.6523313522338867, 2.904012441635132, 2.7235283851623535, 3.1818089485168457, 2.6123011112213135, 3.0563716888427734, 2.690993070602417, 2.821402072906494, 3.1014511585235596, 2.5788960456848145, 3.084426164627075, 2.6938719749450684, 2.692702054977417, 3.0830960273742676, 2.597623825073242, 2.895770788192749, 2.669677972793579, 2.7883405685424805, 3.036597490310669, 2.603194236755371, 2.915428638458252, 2.623460292816162, 2.930176258087158, 3.120697498321533, 3.0053255558013916, 2.749631404876709, 2.75671124458313, 2.901899814605713, 3.0763626098632812, 2.9017183780670166, 2.7067203521728516, 2.780734062194824, 2.7956454753875732, 3.430499792098999, 2.6891982555389404, 2.655344247817993, 2.761259078979492, 2.83730149269104, 3.219256639480591, 2.578749895095825, 2.678452253341675, 2.85192608833313, 3.196763753890991, 3.175029754638672, 2.7597994804382324, 2.7897958755493164, 2.8273260593414307, 3.12091064453125, 3.2484984397888184, 2.701650857925415, 2.850327253341675, 2.7167227268218994, 3.148923635482788, 3.081587314605713, 2.7929625511169434, 2.8111371994018555, 3.203666925430298, 2.8205044269561768, 3.1481049060821533, 2.8966917991638184, 2.9299685955047607, 3.068185567855835, 2.794301986694336, 3.1570749282836914, 2.8964385986328125, 3.034346103668213, 2.71601939201355, 2.8409879207611084, 3.08322811126709, 2.810530662536621, 2.97780179977417, 2.677499532699585, 2.691326379776001, 3.2953758239746094, 2.8125340938568115, 2.9172379970550537, 2.7111289501190186, 2.6764748096466064, 3.1926581859588623, 2.983407735824585, 2.751526355743408, 2.7026753425598145, 2.8557093143463135, 3.2081916332244873, 2.910465955734253, 2.701397657394409, 2.7741856575012207, 2.763908863067627, 3.1000566482543945, 2.9342212677001953, 2.6304399967193604, 2.672694683074951, 2.7903478145599365, 3.4098713397979736, 2.6849920749664307, 2.7112739086151123, 2.749720811843872, 2.8983607292175293, 3.329817771911621, 2.6807620525360107, 2.631596565246582, 2.7947537899017334, 2.7651407718658447, 3.246304988861084, 2.689201593399048, 2.6132826805114746, 2.6374001502990723, 3.048696279525757, 3.177201509475708, 2.6280622482299805, 2.5354044437408447, 2.8353800773620605, 3.295260190963745, 3.0912187099456787, 2.823763847351074, 2.691250801086426, 2.7253804206848145, 2.988051414489746, 3.1247127056121826, 2.6997170448303223, 2.7569386959075928, 3.083751678466797, 2.761561393737793, 3.2470645904541016, 2.7202341556549072, 2.8109078407287598, 2.992922306060791, 2.8000664710998535, 3.0989346504211426, 2.6931231021881104, 2.8083722591400146, 2.9567370414733887, 2.6636605262756348, 3.2097933292388916, 2.8942387104034424, 3.1446802616119385, 2.802657127380371, 2.7716245651245117, 3.165760040283203, 2.8502392768859863, 2.9296488761901855, 2.6285667419433594, 2.8569397926330566, 3.2022361755371094, 2.8448293209075928, 2.971019983291626, 2.696498155593872, 2.723785638809204, 3.2178308963775635, 3.0219757556915283, 2.6643905639648438, 2.740975856781006, 2.68542742729187, 3.218595027923584, 2.9613234996795654, 2.652641773223877, 2.609377861022949, 2.872978925704956, 3.1499998569488525, 2.892270565032959, 2.6298458576202393, 2.8177199363708496, 2.732076644897461, 3.452108860015869, 2.7260847091674805, 2.6944472789764404, 2.699565887451172, 2.81463623046875, 3.357698678970337, 2.68424654006958, 2.639167070388794, 2.6625006198883057, 2.9987120628356934, 3.4079902172088623, 2.7708017826080322, 2.7043116092681885, 2.6875572204589844, 2.7873647212982178, 3.4662206172943115, 2.7125084400177, 2.734529972076416, 2.8101184368133545, 3.0205321311950684, 3.22416615486145, 2.737077474594116, 2.7188162803649902, 2.795607566833496, 3.2142651081085205, 3.168522357940674, 2.790750503540039, 2.8205575942993164, 2.9480738639831543, 2.630847692489624, 3.052992343902588, 2.7542262077331543, 2.7760090827941895, 2.9726309776306152, 2.680022954940796, 3.0332326889038086, 2.6975104808807373, 2.809098482131958, 3.0751609802246094, 2.838005542755127, 2.9900825023651123, 2.657740354537964, 3.113159656524658, 2.693913221359253, 2.6187164783477783, 3.1912031173706055, 2.7298476696014404, 3.1240999698638916, 2.890528678894043, 2.8018672466278076, 3.284505605697632, 3.067094326019287, 2.7516558170318604, 2.6499247550964355, 2.6920456886291504, 3.0766677856445312, 3.1788039207458496, 2.7037670612335205, 2.6405582427978516, 2.66059947013855, 3.0686752796173096, 3.0599212646484375, 2.670403003692627, 2.7183549404144287, 2.6960678100585938, 3.523890972137451, 2.628666877746582, 2.750978469848633, 2.685579538345337, 2.770066976547241, 3.512193202972412, 2.7798633575439453, 2.7243120670318604, 2.8330342769622803, 2.7346272468566895, 3.3726582527160645, 2.6601150035858154, 2.7270894050598145, 2.8364195823669434, 3.2353172302246094, 3.349510669708252, 2.779093027114868, 2.7944326400756836, 2.7564704418182373, 3.3212623596191406, 3.178309202194214, 2.682187080383301, 2.7153825759887695, 2.753204584121704, 3.1281330585479736, 3.090700626373291, 2.790283203125, 2.8001158237457275, 3.115854501724243, 2.734462261199951, 3.0628936290740967, 2.840064764022827, 2.7340545654296875, 3.1425247192382812, 2.9542930126190186, 2.956554651260376, 2.7563183307647705, 2.7618072032928467, 3.0585107803344727, 2.739234447479248, 3.1367690563201904, 2.7818965911865234, 3.0821266174316406, 2.750304937362671, 2.7968029975891113, 3.1764869689941406, 2.804671287536621, 2.9768519401550293, 2.6134119033813477, 2.980772018432617, 3.2020986080169678, 2.8548591136932373, 3.1331613063812256, 2.6003639698028564, 2.7433998584747314, 3.2238223552703857, 3.0290026664733887, 2.7101829051971436, 2.6690609455108643, 2.7376773357391357, 3.209479570388794, 3.091679811477661, 2.710029363632202, 2.769685745239258, 2.8527345657348633, 3.1897315979003906, 3.149428367614746, 2.6077754497528076, 2.6704044342041016, 2.7417547702789307, 3.5047659873962402, 2.738071918487549, 2.690992593765259, 2.5979907512664795, 2.740616798400879, 3.4093167781829834, 2.735703229904175, 2.6620020866394043, 2.709408760070801, 2.863879442214966, 3.4399948120117188, 2.736344575881958, 2.746314764022827, 2.6660361289978027, 3.1145665645599365, 3.074820041656494, 2.766134262084961, 2.77144718170166, 2.7380809783935547, 2.9452638626098633, 3.1237142086029053, 2.631160020828247, 2.6922011375427246, 2.8285977840423584, 3.2223620414733887, 3.051684856414795, 2.7145283222198486, 2.8080408573150635, 2.7551279067993164, 2.949679136276245, 3.074579954147339, 2.7052767276763916, 2.7654314041137695, 2.996387481689453, 2.7588672637939453, 3.131807565689087, 2.6695358753204346, 2.721367359161377, 3.2430601119995117, 3.0713937282562256, 3.178391456604004, 2.8447394371032715, 3.052826166152954, 2.661630392074585, 2.658190965652466, 3.14900541305542, 2.7246146202087402, 3.0437753200531006, 2.7336955070495605, 2.8403985500335693, 3.1672708988189697, 2.8146090507507324, 3.0768706798553467, 2.7362823486328125, 2.9506490230560303, 3.1766440868377686, 3.263361692428589, 2.730577230453491, 2.650803565979004, 2.6510908603668213, 3.208918333053589, 3.190995693206787, 2.688372850418091, 2.5885074138641357, 2.7359371185302734, 3.2637391090393066, 3.0596530437469482, 2.625624656677246, 2.6690008640289307, 2.9111132621765137, 3.5606865882873535, 2.82021427154541, 2.661315679550171, 2.68306827545166, 2.739572286605835, 3.448216199874878, 2.6574172973632812, 2.7270219326019287, 2.6588661670684814, 2.7748427391052246, 3.5578813552856445, 2.765239953994751, 2.6743178367614746, 2.7800607681274414, 3.1908621788024902, 2.9342281818389893, 2.740928888320923, 2.675333023071289, 2.6966733932495117, 3.1211979389190674, 3.0784449577331543, 2.7209794521331787, 2.82965087890625, 2.7846691608428955, 2.9538729190826416, 3.089252471923828, 2.715461492538452, 2.754621744155884, 2.7470054626464844, 3.0831594467163086, 3.224332809448242, 2.706315279006958, 2.8441646099090576, 3.129279136657715, 2.685061454772949, 3.1156387329101562, 2.7665579319000244, 2.774334192276001, 2.93127179145813, 2.7648918628692627]\n"
          ]
        }
      ]
    },
    {
      "cell_type": "markdown",
      "source": [
        "#Make Application"
      ],
      "metadata": {
        "id": "GjZIEENrs7hx"
      }
    },
    {
      "cell_type": "code",
      "source": [
        "class AnimalMaker:\n",
        "\n",
        "  def makeAnimalPic(animal):\n",
        "    if animal == 'dog':\n",
        "      return dog_df\n",
        "    elif animal == 'cat':\n",
        "      return cat_df\n",
        "    elif animal == 'wild':\n",
        "      return wild_df\n",
        "    else:\n",
        "      return \"animal not found\""
      ],
      "metadata": {
        "id": "4N6gSFETRPL-"
      },
      "execution_count": null,
      "outputs": []
    },
    {
      "cell_type": "code",
      "source": [
        "animalMaker = AnimalMaker()"
      ],
      "metadata": {
        "id": "GDuqvLCJ-3iq"
      },
      "execution_count": null,
      "outputs": []
    },
    {
      "cell_type": "code",
      "source": [],
      "metadata": {
        "id": "Br4Kmftv-z1U"
      },
      "execution_count": null,
      "outputs": []
    }
  ]
}